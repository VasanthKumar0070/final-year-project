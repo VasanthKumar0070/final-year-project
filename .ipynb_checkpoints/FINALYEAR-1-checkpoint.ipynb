{
 "cells": [
  {
   "cell_type": "code",
   "execution_count": 45,
   "id": "ee642762",
   "metadata": {},
   "outputs": [],
   "source": [
    "import pandas as pd\n",
    "import numpy as np"
   ]
  },
  {
   "cell_type": "code",
   "execution_count": 46,
   "id": "a37530d5",
   "metadata": {},
   "outputs": [],
   "source": [
    "df=pd.read_csv(\"imu.csv\",usecols =['Gyroscope Z'])\n"
   ]
  },
  {
   "cell_type": "code",
   "execution_count": 47,
   "id": "aadf27d1",
   "metadata": {},
   "outputs": [
    {
     "data": {
      "text/html": [
       "<div>\n",
       "<style scoped>\n",
       "    .dataframe tbody tr th:only-of-type {\n",
       "        vertical-align: middle;\n",
       "    }\n",
       "\n",
       "    .dataframe tbody tr th {\n",
       "        vertical-align: top;\n",
       "    }\n",
       "\n",
       "    .dataframe thead th {\n",
       "        text-align: right;\n",
       "    }\n",
       "</style>\n",
       "<table border=\"1\" class=\"dataframe\">\n",
       "  <thead>\n",
       "    <tr style=\"text-align: right;\">\n",
       "      <th></th>\n",
       "      <th>Gyroscope Z</th>\n",
       "    </tr>\n",
       "  </thead>\n",
       "  <tbody>\n",
       "    <tr>\n",
       "      <th>0</th>\n",
       "      <td>-1.708984</td>\n",
       "    </tr>\n",
       "    <tr>\n",
       "      <th>1</th>\n",
       "      <td>-1.525879</td>\n",
       "    </tr>\n",
       "    <tr>\n",
       "      <th>2</th>\n",
       "      <td>-1.342774</td>\n",
       "    </tr>\n",
       "    <tr>\n",
       "      <th>3</th>\n",
       "      <td>-1.159668</td>\n",
       "    </tr>\n",
       "    <tr>\n",
       "      <th>4</th>\n",
       "      <td>1.403809</td>\n",
       "    </tr>\n",
       "  </tbody>\n",
       "</table>\n",
       "</div>"
      ],
      "text/plain": [
       "   Gyroscope Z\n",
       "0    -1.708984\n",
       "1    -1.525879\n",
       "2    -1.342774\n",
       "3    -1.159668\n",
       "4     1.403809"
      ]
     },
     "execution_count": 47,
     "metadata": {},
     "output_type": "execute_result"
    }
   ],
   "source": [
    "df.head()"
   ]
  },
  {
   "cell_type": "code",
   "execution_count": 48,
   "id": "3d95e6cc",
   "metadata": {},
   "outputs": [
    {
     "name": "stdout",
     "output_type": "stream",
     "text": [
      "Gyroscope Z    119910\n",
      "dtype: int64\n",
      "[-1.708984]\n"
     ]
    }
   ],
   "source": [
    "C=90.123\n",
    "C1=0.4\n",
    "C2=0.66\n",
    "cfc=0\n",
    "a=df.values.tolist()\n",
    "b=np.array(a)\n",
    "d=df.count()\n",
    "type(b)\n",
    "print(d)\n",
    "print(b[0])"
   ]
  },
  {
   "cell_type": "code",
   "execution_count": 49,
   "id": "f6bba5d4",
   "metadata": {},
   "outputs": [
    {
     "name": "stdout",
     "output_type": "stream",
     "text": [
      "0\n"
     ]
    }
   ],
   "source": [
    "\n",
    "for i in range(119910):\n",
    "    d=i*(i+1)\n",
    "    if((d*-C)<0):\n",
    "        cfc=cfc+1\n",
    "    if(cfc==2):\n",
    "        cfc=0\n",
    "        print(cfc)\n",
    "        break"
   ]
  },
  {
   "cell_type": "code",
   "execution_count": 73,
   "id": "c34a2378",
   "metadata": {},
   "outputs": [
    {
     "name": "stdout",
     "output_type": "stream",
     "text": [
      "test\n",
      "52654\n"
     ]
    }
   ],
   "source": [
    "peak=[]\n",
    "print('test')\n",
    "count=0\n",
    "for i in range(119909):\n",
    "    if(b[i]<b[i+1]):\n",
    "        i=i+1\n",
    "    elif(b[i]>b[i+1]):\n",
    "        peak.append(b[i])\n",
    "        i=i+1\n",
    "        count=count+1\n",
    "type(peak)\n",
    "print(count)\n"
   ]
  },
  {
   "cell_type": "code",
   "execution_count": 74,
   "id": "90ff17ef",
   "metadata": {},
   "outputs": [
    {
     "name": "stdout",
     "output_type": "stream",
     "text": [
      "test\n",
      "50857\n"
     ]
    }
   ],
   "source": [
    "valley=[]\n",
    "print('test')\n",
    "count=0\n",
    "for i in range(119909):\n",
    "    if(b[i]>b[i+1]):\n",
    "        i=i+1\n",
    "    elif(b[i]<b[i+1]):\n",
    "        valley.append(b[i])\n",
    "        i=i+1\n",
    "        count=count+1\n",
    "type(valley)\n",
    "print(count)\n"
   ]
  },
  {
   "cell_type": "code",
   "execution_count": 62,
   "id": "0a85fe22",
   "metadata": {},
   "outputs": [
    {
     "name": "stdout",
     "output_type": "stream",
     "text": [
      "[-1.708984]\n",
      "[-1.525879]\n",
      "[-1.342774]\n",
      "[-1.159668]\n",
      "[1.403809]\n",
      "[6.530762]\n",
      "[8.728028]\n",
      "[3.173828]\n",
      "[0.488281]\n",
      "[-0.366211]\n",
      "[-0.549316]\n",
      "[-0.549316]\n",
      "[-0.549316]\n",
      "[-0.549316]\n",
      "[-0.549316]\n",
      "[-0.671387]\n",
      "[-0.915527]\n",
      "[-1.037598]\n",
      "[-1.037598]\n",
      "[-0.793457]\n",
      "[-0.732422]\n",
      "[-0.732422]\n",
      "[-0.610352]\n",
      "[-0.610352]\n",
      "[-0.488281]\n",
      "[-0.305176]\n",
      "[-0.305176]\n",
      "[-0.366211]\n",
      "[-0.366211]\n",
      "[-0.671387]\n",
      "[-0.976563]\n",
      "[-1.281738]\n",
      "[-1.647949]\n",
      "[-1.77002]\n",
      "[-1.708984]\n",
      "[-1.586914]\n",
      "[-1.342774]\n",
      "[-1.098633]\n",
      "[-1.159668]\n",
      "[-1.220703]\n",
      "[-1.281738]\n",
      "[-1.464844]\n",
      "[-1.647949]\n",
      "[-1.77002]\n",
      "[-1.953125]\n",
      "[-2.258301]\n",
      "[-2.258301]\n",
      "[-2.136231]\n",
      "[-2.075195]\n",
      "[-1.831055]\n",
      "[-1.831055]\n",
      "[-1.647949]\n",
      "[-1.464844]\n",
      "[-1.281738]\n",
      "[-1.281738]\n",
      "[-1.403809]\n",
      "[-1.525879]\n",
      "[-1.525879]\n",
      "[-1.525879]\n",
      "[-1.586914]\n",
      "[-1.77002]\n",
      "[-1.831055]\n",
      "[-1.89209]\n",
      "[-2.075195]\n",
      "[-2.197266]\n",
      "[-2.258301]\n",
      "[-2.258301]\n",
      "[-2.441406]\n",
      "[-2.258301]\n",
      "[-2.01416]\n",
      "[-1.708984]\n",
      "[-1.525879]\n",
      "[-1.342774]\n",
      "[-1.159668]\n",
      "[1.403809]\n",
      "[6.530762]\n",
      "[8.728028]\n",
      "[3.173828]\n",
      "[0.488281]\n",
      "[-0.366211]\n",
      "[-1.098633]\n",
      "[-1.647949]\n",
      "[-1.89209]\n",
      "[-1.89209]\n",
      "[-1.89209]\n",
      "[-1.953125]\n",
      "[-2.136231]\n",
      "[-6.958008]\n",
      "[-8.666993]\n",
      "[-10.986329]\n",
      "[-13.854981]\n",
      "[-16.235353]\n",
      "[-15.075685]\n",
      "[-12.878419]\n",
      "[-9.094239]\n",
      "[-6.713868]\n",
      "[-4.272461]\n",
      "[-2.441406]\n",
      "[0.610352]\n",
      "[-5.737305]\n"
     ]
    }
   ],
   "source": [
    "for i in range(100):\n",
    "    print(b[i])"
   ]
  },
  {
   "cell_type": "code",
   "execution_count": null,
   "id": "e7756c3b",
   "metadata": {},
   "outputs": [],
   "source": []
  }
 ],
 "metadata": {
  "kernelspec": {
   "display_name": "Python 3 (ipykernel)",
   "language": "python",
   "name": "python3"
  },
  "language_info": {
   "codemirror_mode": {
    "name": "ipython",
    "version": 3
   },
   "file_extension": ".py",
   "mimetype": "text/x-python",
   "name": "python",
   "nbconvert_exporter": "python",
   "pygments_lexer": "ipython3",
   "version": "3.9.6"
  }
 },
 "nbformat": 4,
 "nbformat_minor": 5
}
