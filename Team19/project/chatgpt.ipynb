{
 "cells": [
  {
   "cell_type": "code",
   "execution_count": 4,
   "id": "00821bf9",
   "metadata": {},
   "outputs": [
    {
     "ename": "UnboundLocalError",
     "evalue": "local variable 'A' referenced before assignment",
     "output_type": "error",
     "traceback": [
      "\u001b[1;31m---------------------------------------------------------------------------\u001b[0m",
      "\u001b[1;31mUnboundLocalError\u001b[0m                         Traceback (most recent call last)",
      "Cell \u001b[1;32mIn[4], line 60\u001b[0m\n\u001b[0;32m     57\u001b[0m omega_i \u001b[38;5;241m=\u001b[39m pd\u001b[38;5;241m.\u001b[39mread_csv(\u001b[38;5;124m\"\u001b[39m\u001b[38;5;124mimu.csv\u001b[39m\u001b[38;5;124m\"\u001b[39m,usecols \u001b[38;5;241m=\u001b[39m[\u001b[38;5;124m'\u001b[39m\u001b[38;5;124mGyroscope Z\u001b[39m\u001b[38;5;124m'\u001b[39m])\n\u001b[0;32m     59\u001b[0m \u001b[38;5;66;03m# Detect event (if any)\u001b[39;00m\n\u001b[1;32m---> 60\u001b[0m \u001b[43mdetectEvent\u001b[49m\u001b[43m(\u001b[49m\u001b[43momega_i\u001b[49m\u001b[43m)\u001b[49m\n",
      "Cell \u001b[1;32mIn[4], line 18\u001b[0m, in \u001b[0;36mdetectEvent\u001b[1;34m(omega_i)\u001b[0m\n\u001b[0;32m     15\u001b[0m \u001b[38;5;28;01mglobal\u001b[39;00m CFC, wFCk, wλk, wLCk, wMsk\n\u001b[0;32m     17\u001b[0m \u001b[38;5;66;03m# Update buffer\u001b[39;00m\n\u001b[1;32m---> 18\u001b[0m A[\u001b[38;5;241m1\u001b[39m:] \u001b[38;5;241m=\u001b[39m \u001b[43mA\u001b[49m[:\u001b[38;5;241m-\u001b[39m\u001b[38;5;241m1\u001b[39m]\n\u001b[0;32m     19\u001b[0m A \u001b[38;5;241m=\u001b[39m omega_i\n\u001b[0;32m     21\u001b[0m \u001b[38;5;66;03m# Detect crossing event (FCk)\u001b[39;00m\n",
      "\u001b[1;31mUnboundLocalError\u001b[0m: local variable 'A' referenced before assignment"
     ]
    }
   ],
   "source": [
    "import numpy as np\n",
    "import pandas as pd\n",
    "\n",
    "# Initialization\n",
    "C1 = 90.123  # Sensor calibrated value\n",
    "fs = 100  # Sampling frequency (Hz)\n",
    "mu1, mu2 = 0.4, 0.66  # Waveform constants\n",
    "wFCk, wλk, wLCk, wMsk = np.nan, np.nan, np.nan, np.nan\n",
    "CFC = 0\n",
    "\n",
    "# Stack buffer\n",
    "A = np.zeros(20)\n",
    "\n",
    "def detectEvent(omega_i):\n",
    "    global CFC, wFCk, wλk, wLCk, wMsk\n",
    "    \n",
    "    # Update buffer\n",
    "    A[1:] = A[:-1]\n",
    "    A = omega_i\n",
    "    \n",
    "    # Detect crossing event (FCk)\n",
    "    if (omega_i - C1) * (A[1] - C1) < 0:\n",
    "        CFC += 1\n",
    "        if CFC == 2:\n",
    "            if valleyFound() < 0:\n",
    "                wFCk = np.nan\n",
    "                CFC = 0\n",
    "            elif mu1 * wFCk <= omega_i <= C1:\n",
    "                if peakFound() < 0 and np.isnan(wFCk):\n",
    "                    wλk = np.nan\n",
    "                    wFCk = omega_i\n",
    "            elif omega_i <= mu2:\n",
    "                if valleyFound() < 0 and np.isnan(wλk):\n",
    "                    wLCk = omega_i\n",
    "                elif peakFound() > 0 and np.isnan(wMsk) and not np.isnan(wLCk):\n",
    "                    wMsk = omega_i\n",
    "                    # Event detected: Msk\n",
    "                    print(\"Msk detected\")\n",
    "\n",
    "def valleyFound():\n",
    "    # Search for a valley in buffer A\n",
    "    for i in range(1, len(A)-1):\n",
    "        if A[i-1] > A[i] < A[i+1]:\n",
    "            return i\n",
    "    return -1\n",
    "\n",
    "def peakFound():\n",
    "    # Search for a peak in buffer A\n",
    "    for i in range(1, len(A)-1):\n",
    "        if A[i-1] < A[i] > A[i+1]:\n",
    "            return i\n",
    "    return -1\n",
    "\n",
    "# Main loop\n",
    "while True:\n",
    "    # Read gyroscope value (omega_i)\n",
    "    omega_i = pd.read_csv(\"imu.csv\",usecols =['Gyroscope Z'])\n",
    "    \n",
    "    # Detect event (if any)\n",
    "    detectEvent(omega_i)"
   ]
  },
  {
   "cell_type": "code",
   "execution_count": 1,
   "id": "c8f949dc",
   "metadata": {},
   "outputs": [
    {
     "name": "stdout",
     "output_type": "stream",
     "text": [
      "[1, 2, 5, 6, 3, 4, 7, 8]\n"
     ]
    }
   ],
   "source": [
    "a=[1,2,3,4]\n",
    "b=[5,6,7,8]\n",
    "c=[]\n",
    "for i in range(0,len(a),2):\n",
    "        c.append(a[i])\n",
    "        c.append(a[i+1])\n",
    "        c.append(b[i])\n",
    "        c.append(b[i+1])\n",
    "print(c) \n",
    "        "
   ]
  },
  {
   "cell_type": "code",
   "execution_count": null,
   "id": "7db2b0a9",
   "metadata": {},
   "outputs": [],
   "source": []
  }
 ],
 "metadata": {
  "kernelspec": {
   "display_name": "Python 3 (ipykernel)",
   "language": "python",
   "name": "python3"
  },
  "language_info": {
   "codemirror_mode": {
    "name": "ipython",
    "version": 3
   },
   "file_extension": ".py",
   "mimetype": "text/x-python",
   "name": "python",
   "nbconvert_exporter": "python",
   "pygments_lexer": "ipython3",
   "version": "3.9.6"
  }
 },
 "nbformat": 4,
 "nbformat_minor": 5
}
