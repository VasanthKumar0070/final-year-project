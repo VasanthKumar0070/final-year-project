{
 "cells": [
  {
   "cell_type": "code",
   "execution_count": 2,
   "id": "ee642762",
   "metadata": {},
   "outputs": [],
   "source": [
    "import pandas as pd\n",
    "import numpy as np"
   ]
  },
  {
   "cell_type": "code",
   "execution_count": 3,
   "id": "a37530d5",
   "metadata": {},
   "outputs": [],
   "source": [
    "df=pd.read_csv(\"imu.csv\",usecols =['Gyroscope Z'])\n"
   ]
  },
  {
   "cell_type": "code",
   "execution_count": 4,
   "id": "aadf27d1",
   "metadata": {},
   "outputs": [
    {
     "data": {
      "text/html": [
       "<div>\n",
       "<style scoped>\n",
       "    .dataframe tbody tr th:only-of-type {\n",
       "        vertical-align: middle;\n",
       "    }\n",
       "\n",
       "    .dataframe tbody tr th {\n",
       "        vertical-align: top;\n",
       "    }\n",
       "\n",
       "    .dataframe thead th {\n",
       "        text-align: right;\n",
       "    }\n",
       "</style>\n",
       "<table border=\"1\" class=\"dataframe\">\n",
       "  <thead>\n",
       "    <tr style=\"text-align: right;\">\n",
       "      <th></th>\n",
       "      <th>Gyroscope Z</th>\n",
       "    </tr>\n",
       "  </thead>\n",
       "  <tbody>\n",
       "    <tr>\n",
       "      <th>0</th>\n",
       "      <td>-1.708984</td>\n",
       "    </tr>\n",
       "    <tr>\n",
       "      <th>1</th>\n",
       "      <td>-1.525879</td>\n",
       "    </tr>\n",
       "    <tr>\n",
       "      <th>2</th>\n",
       "      <td>-1.342774</td>\n",
       "    </tr>\n",
       "    <tr>\n",
       "      <th>3</th>\n",
       "      <td>-1.159668</td>\n",
       "    </tr>\n",
       "    <tr>\n",
       "      <th>4</th>\n",
       "      <td>1.403809</td>\n",
       "    </tr>\n",
       "  </tbody>\n",
       "</table>\n",
       "</div>"
      ],
      "text/plain": [
       "   Gyroscope Z\n",
       "0    -1.708984\n",
       "1    -1.525879\n",
       "2    -1.342774\n",
       "3    -1.159668\n",
       "4     1.403809"
      ]
     },
     "execution_count": 4,
     "metadata": {},
     "output_type": "execute_result"
    }
   ],
   "source": [
    "df.head()"
   ]
  },
  {
   "cell_type": "code",
   "execution_count": 5,
   "id": "3d95e6cc",
   "metadata": {},
   "outputs": [
    {
     "name": "stdout",
     "output_type": "stream",
     "text": [
      "Gyroscope Z    119910\n",
      "dtype: int64\n",
      "[-1.708984]\n"
     ]
    }
   ],
   "source": [
    "C=90.123\n",
    "C1=0.4\n",
    "C2=0.66\n",
    "cfc=0\n",
    "a=df.values.tolist()\n",
    "b=np.array(a)\n",
    "d=df.count()\n",
    "type(b)\n",
    "print(d)\n",
    "print(b[0])"
   ]
  },
  {
   "cell_type": "code",
   "execution_count": 6,
   "id": "f6bba5d4",
   "metadata": {},
   "outputs": [
    {
     "name": "stdout",
     "output_type": "stream",
     "text": [
      "0\n"
     ]
    }
   ],
   "source": [
    "\n"
   ]
  },
  {
   "cell_type": "code",
   "execution_count": 7,
   "id": "c34a2378",
   "metadata": {},
   "outputs": [
    {
     "name": "stdout",
     "output_type": "stream",
     "text": [
      "test\n",
      "52654\n"
     ]
    }
   ],
   "source": [
    "peak=[]\n",
    "print('test')\n",
    "count=0\n",
    "for i in range(119909):\n",
    "    if(b[i]<b[i+1]):\n",
    "        i=i+1\n",
    "    elif(b[i]>b[i+1]):\n",
    "        peak.append(b[i])\n",
    "        i=i+1\n",
    "        count=count+1\n",
    "type(peak)\n",
    "print(count)\n"
   ]
  },
  {
   "cell_type": "code",
   "execution_count": 8,
   "id": "90ff17ef",
   "metadata": {},
   "outputs": [
    {
     "name": "stdout",
     "output_type": "stream",
     "text": [
      "test\n",
      "50857\n"
     ]
    }
   ],
   "source": [
    "valley=[]\n",
    "print('test')\n",
    "count=0\n",
    "for i in range(119909):\n",
    "    if(b[i]>b[i+1]):\n",
    "        i=i+1\n",
    "    elif(b[i]<b[i+1]):\n",
    "        valley.append(b[i])\n",
    "        i=i+1\n",
    "        count=count+1\n",
    "type(valley)\n",
    "print(count)\n"
   ]
  },
  {
   "cell_type": "code",
   "execution_count": 21,
   "id": "0a85fe22",
   "metadata": {},
   "outputs": [
    {
     "name": "stdout",
     "output_type": "stream",
     "text": [
      "101714\n"
     ]
    }
   ],
   "source": [
    "def countlist(valley,peak):\n",
    "    return[sub[item] for item in range(len(valley))\n",
    "                     for sub in[valley,peak]]\n",
    "\n",
    "com=(countlist(valley,peak))\n",
    "e=len(com)\n",
    "print(e)\n"
   ]
  },
  {
   "cell_type": "code",
   "execution_count": 26,
   "id": "fb135948",
   "metadata": {},
   "outputs": [],
   "source": [
    "ft=[]\n",
    "lam=[]\n",
    "lt=[]\n",
    "ms=[]\n",
    "\n",
    "    "
   ]
  },
  {
   "cell_type": "code",
   "execution_count": 67,
   "id": "e7756c3b",
   "metadata": {},
   "outputs": [
    {
     "name": "stdout",
     "output_type": "stream",
     "text": [
      "FIRST TOUCH\n",
      "[]\n",
      "LAMBDA VALUE\n",
      "[]\n",
      "LAST TOUCH\n",
      "[array([-1.525879])]\n",
      "MID SWING\n",
      "[]\n"
     ]
    }
   ],
   "source": [
    "for i in range(1):\n",
    "    d=i*(i+1)\n",
    "    if((d*-C)<0):\n",
    "        cfc=cfc+1\n",
    "    if(cfc==2):\n",
    "        if(i%4==0):\n",
    "            ft.append(com[i])\n",
    "        elif(i%4==1):\n",
    "            lam.append(com[i])\n",
    "        elif(i%4==2):\n",
    "            lt.append(com[i])\n",
    "        elif(i%4==3):\n",
    "            ms.append(com[i])\n",
    "print('FIRST TOUCH')\n",
    "print(ft)\n",
    "print('LAMBDA VALUE')\n",
    "print(lam)\n",
    "print('LAST TOUCH')\n",
    "print(lt)\n",
    "print('MID SWING')\n",
    "print(ms)\n",
    "        "
   ]
  },
  {
   "cell_type": "code",
   "execution_count": 62,
   "id": "742826b8",
   "metadata": {},
   "outputs": [
    {
     "data": {
      "text/plain": [
       "90"
      ]
     },
     "execution_count": 62,
     "metadata": {},
     "output_type": "execute_result"
    }
   ],
   "source": [
    "aa=40\n",
    "bb=50\n",
    "cc=aa+bb\n",
    "cc"
   ]
  },
  {
   "cell_type": "code",
   "execution_count": null,
   "id": "0b7fec02",
   "metadata": {},
   "outputs": [],
   "source": []
  }
 ],
 "metadata": {
  "kernelspec": {
   "display_name": "Python 3 (ipykernel)",
   "language": "python",
   "name": "python3"
  },
  "language_info": {
   "codemirror_mode": {
    "name": "ipython",
    "version": 3
   },
   "file_extension": ".py",
   "mimetype": "text/x-python",
   "name": "python",
   "nbconvert_exporter": "python",
   "pygments_lexer": "ipython3",
   "version": "3.9.6"
  }
 },
 "nbformat": 4,
 "nbformat_minor": 5
}
